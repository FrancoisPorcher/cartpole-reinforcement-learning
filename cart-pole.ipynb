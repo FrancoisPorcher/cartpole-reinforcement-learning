{
  "nbformat": 4,
  "nbformat_minor": 0,
  "metadata": {
    "colab": {
      "provenance": []
    },
    "kernelspec": {
      "name": "python3",
      "display_name": "Python 3"
    },
    "language_info": {
      "name": "python"
    }
  },
  "cells": [
    {
      "cell_type": "code",
      "execution_count": 2,
      "metadata": {
        "colab": {
          "base_uri": "https://localhost:8080/"
        },
        "id": "olGQZhcYkTnQ",
        "outputId": "ce27d4c7-75f4-4d81-cb4e-64baa1107936"
      },
      "outputs": [
        {
          "output_type": "stream",
          "name": "stdout",
          "text": [
            "Colab only includes TensorFlow 2.x; %tensorflow_version has no effect.\n"
          ]
        }
      ],
      "source": [
        "from google.colab import drive\n",
        "%tensorflow_version 2.x"
      ]
    },
    {
      "cell_type": "markdown",
      "source": [
        "# Libraries"
      ],
      "metadata": {
        "id": "OG_xsWyslgMS"
      }
    },
    {
      "cell_type": "code",
      "source": [
        "!sudo apt-get install -y xvfb ffmpeg x11-utils\n",
        "!pip install -q 'gym==0.10.11'\n",
        "!pip install -q 'imageio==2.4.0'\n",
        "!pip install -q PILLOW\n",
        "!pip install -q 'pyglet==1.3.2'\n",
        "!pip install -q pyvirtualdisplay\n",
        "!pip install -q tf-agents\n",
        "!pip install -q pygame"
      ],
      "metadata": {
        "colab": {
          "base_uri": "https://localhost:8080/"
        },
        "id": "PrRPlh3-kwUi",
        "outputId": "70619826-1cda-4433-e5b5-fb202339fc78"
      },
      "execution_count": 4,
      "outputs": [
        {
          "output_type": "stream",
          "name": "stdout",
          "text": [
            "Reading package lists... Done\n",
            "Building dependency tree       \n",
            "Reading state information... Done\n",
            "ffmpeg is already the newest version (7:4.2.7-0ubuntu0.1).\n",
            "Suggested packages:\n",
            "  mesa-utils\n",
            "The following NEW packages will be installed:\n",
            "  libxxf86dga1 x11-utils xvfb\n",
            "0 upgraded, 3 newly installed, 0 to remove and 19 not upgraded.\n",
            "Need to get 990 kB of archives.\n",
            "After this operation, 3,058 kB of additional disk space will be used.\n",
            "Get:1 http://archive.ubuntu.com/ubuntu focal/main amd64 libxxf86dga1 amd64 2:1.1.5-0ubuntu1 [12.0 kB]\n",
            "Get:2 http://archive.ubuntu.com/ubuntu focal/main amd64 x11-utils amd64 7.7+5 [199 kB]\n",
            "Get:3 http://archive.ubuntu.com/ubuntu focal-updates/universe amd64 xvfb amd64 2:1.20.13-1ubuntu1~20.04.6 [780 kB]\n",
            "Fetched 990 kB in 0s (7,711 kB/s)\n",
            "debconf: unable to initialize frontend: Dialog\n",
            "debconf: (No usable dialog-like program is installed, so the dialog based frontend cannot be used. at /usr/share/perl5/Debconf/FrontEnd/Dialog.pm line 76, <> line 3.)\n",
            "debconf: falling back to frontend: Readline\n",
            "debconf: unable to initialize frontend: Readline\n",
            "debconf: (This frontend requires a controlling tty.)\n",
            "debconf: falling back to frontend: Teletype\n",
            "dpkg-preconfigure: unable to re-open stdin: \n",
            "Selecting previously unselected package libxxf86dga1:amd64.\n",
            "(Reading database ... 128208 files and directories currently installed.)\n",
            "Preparing to unpack .../libxxf86dga1_2%3a1.1.5-0ubuntu1_amd64.deb ...\n",
            "Unpacking libxxf86dga1:amd64 (2:1.1.5-0ubuntu1) ...\n",
            "Selecting previously unselected package x11-utils.\n",
            "Preparing to unpack .../x11-utils_7.7+5_amd64.deb ...\n",
            "Unpacking x11-utils (7.7+5) ...\n",
            "Selecting previously unselected package xvfb.\n",
            "Preparing to unpack .../xvfb_2%3a1.20.13-1ubuntu1~20.04.6_amd64.deb ...\n",
            "Unpacking xvfb (2:1.20.13-1ubuntu1~20.04.6) ...\n",
            "Setting up xvfb (2:1.20.13-1ubuntu1~20.04.6) ...\n",
            "Setting up libxxf86dga1:amd64 (2:1.1.5-0ubuntu1) ...\n",
            "Setting up x11-utils (7.7+5) ...\n",
            "Processing triggers for man-db (2.9.1-1) ...\n",
            "Processing triggers for libc-bin (2.31-0ubuntu9.9) ...\n",
            "\u001b[2K     \u001b[90m━━━━━━━━━━━━━━━━━━━━━━━━━━━━━━━━━━━━━━━━\u001b[0m \u001b[32m1.5/1.5 MB\u001b[0m \u001b[31m65.7 MB/s\u001b[0m eta \u001b[36m0:00:00\u001b[0m\n",
            "\u001b[?25h  Preparing metadata (setup.py) ... \u001b[?25l\u001b[?25hdone\n",
            "\u001b[2K     \u001b[90m━━━━━━━━━━━━━━━━━━━━━━━━━━━━━━━━━━━━━━\u001b[0m \u001b[32m831.3/831.3 KB\u001b[0m \u001b[31m38.8 MB/s\u001b[0m eta \u001b[36m0:00:00\u001b[0m\n",
            "\u001b[?25h  Building wheel for gym (setup.py) ... \u001b[?25l\u001b[?25hdone\n",
            "\u001b[2K     \u001b[90m━━━━━━━━━━━━━━━━━━━━━━━━━━━━━━━━━━━━━━━━\u001b[0m \u001b[32m3.3/3.3 MB\u001b[0m \u001b[31m72.9 MB/s\u001b[0m eta \u001b[36m0:00:00\u001b[0m\n",
            "\u001b[?25h  Preparing metadata (setup.py) ... \u001b[?25l\u001b[?25hdone\n",
            "  Building wheel for imageio (setup.py) ... \u001b[?25l\u001b[?25hdone\n",
            "\u001b[2K     \u001b[90m━━━━━━━━━━━━━━━━━━━━━━━━━━━━━━━━━━━━━━━━\u001b[0m \u001b[32m1.0/1.0 MB\u001b[0m \u001b[31m44.6 MB/s\u001b[0m eta \u001b[36m0:00:00\u001b[0m\n",
            "\u001b[2K     \u001b[90m━━━━━━━━━━━━━━━━━━━━━━━━━━━━━━━━━━━━━━━━\u001b[0m \u001b[32m1.4/1.4 MB\u001b[0m \u001b[31m23.8 MB/s\u001b[0m eta \u001b[36m0:00:00\u001b[0m\n",
            "\u001b[2K     \u001b[90m━━━━━━━━━━━━━━━━━━━━━━━━━━━━━━━━━━━━━━\u001b[0m \u001b[32m624.4/624.4 KB\u001b[0m \u001b[31m60.6 MB/s\u001b[0m eta \u001b[36m0:00:00\u001b[0m\n",
            "\u001b[?25h  Installing build dependencies ... \u001b[?25l\u001b[?25hdone\n",
            "  Getting requirements to build wheel ... \u001b[?25l\u001b[?25hdone\n",
            "  Preparing metadata (pyproject.toml) ... \u001b[?25l\u001b[?25hdone\n",
            "\u001b[2K     \u001b[90m━━━━━━━━━━━━━━━━━━━━━━━━━━━━━━━━━━━━━━━━\u001b[0m \u001b[32m18.3/18.3 MB\u001b[0m \u001b[31m71.8 MB/s\u001b[0m eta \u001b[36m0:00:00\u001b[0m\n",
            "\u001b[?25h  Building wheel for gym (pyproject.toml) ... \u001b[?25l\u001b[?25hdone\n"
          ]
        }
      ]
    },
    {
      "cell_type": "code",
      "source": [
        "import base64\n",
        "import imageio\n",
        "import IPython\n",
        "import matplotlib\n",
        "import matplotlib.pyplot as plt\n",
        "import numpy as np\n",
        "import PIL.Image\n",
        "import pyvirtualdisplay\n",
        "\n",
        "import tensorflow as tf\n",
        "\n",
        "from tf_agents.agents.dqn import dqn_agent\n",
        "from tf_agents.drivers import dynamic_step_driver\n",
        "from tf_agents.environments import suite_gym\n",
        "from tf_agents.environments import tf_py_environment\n",
        "from tf_agents.eval import metric_utils\n",
        "from tf_agents.metrics import tf_metrics\n",
        "from tf_agents.networks import q_network\n",
        "from tf_agents.policies import random_tf_policy\n",
        "from tf_agents.replay_buffers import tf_uniform_replay_buffer\n",
        "from tf_agents.trajectories import trajectory\n",
        "from tf_agents.utils import common"
      ],
      "metadata": {
        "id": "WrqRN3wOkxGT"
      },
      "execution_count": 5,
      "outputs": []
    },
    {
      "cell_type": "code",
      "source": [
        "tf.__version__"
      ],
      "metadata": {
        "colab": {
          "base_uri": "https://localhost:8080/",
          "height": 37
        },
        "id": "-yH3W1f4kzdn",
        "outputId": "eb2d0a33-3771-4efb-974d-63b43116a76d"
      },
      "execution_count": 6,
      "outputs": [
        {
          "output_type": "execute_result",
          "data": {
            "text/plain": [
              "'2.11.0'"
            ],
            "application/vnd.google.colaboratory.intrinsic+json": {
              "type": "string"
            }
          },
          "metadata": {},
          "execution_count": 6
        }
      ]
    },
    {
      "cell_type": "markdown",
      "source": [
        "# Hyperparameters"
      ],
      "metadata": {
        "id": "eG7X9uuGlEGH"
      }
    },
    {
      "cell_type": "code",
      "source": [
        "# How long should training run?\n",
        "num_iterations = 20000\n",
        "\n",
        "# How many initial random steps, before training start, to\n",
        "# collect initial data.\n",
        "initial_collect_steps = 1000\n",
        "# How many steps should we run each iteration to collect\n",
        "# data from.\n",
        "collect_steps_per_iteration = 1\n",
        "# How much data should we store for training examples.\n",
        "replay_buffer_max_length = 100000\n",
        "\n",
        "batch_size = 64\n",
        "\n",
        "learning_rate = 1e-3\n",
        "# How often should the program provide an update.\n",
        "log_interval = 200\n",
        "\n",
        "# How many episodes should the program use for each evaluation.\n",
        "num_eval_episodes = 10\n",
        "# How often should an evaluation occur.\n",
        "eval_interval = 1000\n"
      ],
      "metadata": {
        "id": "eF1h91e2k7L6"
      },
      "execution_count": 9,
      "outputs": []
    },
    {
      "cell_type": "markdown",
      "source": [
        "# Environment"
      ],
      "metadata": {
        "id": "yV0HkaSKlPKb"
      }
    },
    {
      "cell_type": "code",
      "source": [
        "env_name = 'CartPole-v0'\n",
        "env = suite_gym.load(env_name)"
      ],
      "metadata": {
        "id": "ZlH0ZQe1lQW2"
      },
      "execution_count": 10,
      "outputs": []
    },
    {
      "cell_type": "code",
      "source": [
        "# Set up a virtual display for rendering OpenAI gym environments.\n",
        "display = pyvirtualdisplay.Display(visible=0, size=(1400, 900)).start()"
      ],
      "metadata": {
        "id": "dxxRKjkalnGs"
      },
      "execution_count": 12,
      "outputs": []
    },
    {
      "cell_type": "code",
      "source": [
        "env.reset()\n",
        "PIL.Image.fromarray(env.render())"
      ],
      "metadata": {
        "colab": {
          "base_uri": "https://localhost:8080/",
          "height": 417
        },
        "id": "pMybOoPulSqG",
        "outputId": "7bda5d84-eb68-4d24-c108-ac780eb3453a"
      },
      "execution_count": 13,
      "outputs": [
        {
          "output_type": "execute_result",
          "data": {
            "text/plain": [
              "<PIL.Image.Image image mode=RGB size=600x400 at 0x7FFA8C460370>"
            ],
            "image/png": "[encoded data removed]"
          },
          "metadata": {},
          "execution_count": 13
        }
      ]
    },
    {
      "cell_type": "code",
      "source": [
        "print('Observation Spec:')\n",
        "print(env.time_step_spec().observation)\n",
        "\n",
        "print('Reward Spec:')\n",
        "print(env.time_step_spec().reward)\n",
        "\n",
        "print('Action Spec:')\n",
        "print(env.action_spec())"
      ],
      "metadata": {
        "colab": {
          "base_uri": "https://localhost:8080/"
        },
        "id": "jjWPQJjsmS0D",
        "outputId": "2b781dcb-940c-4306-d398-66449283b3b7"
      },
      "execution_count": 20,
      "outputs": [
        {
          "output_type": "stream",
          "name": "stdout",
          "text": [
            "Observation Spec:\n",
            "BoundedArraySpec(shape=(4,), dtype=dtype('float32'), name='observation', minimum=[-4.8000002e+00 -3.4028235e+38 -4.1887903e-01 -3.4028235e+38], maximum=[4.8000002e+00 3.4028235e+38 4.1887903e-01 3.4028235e+38])\n",
            "Reward Spec:\n",
            "ArraySpec(shape=(), dtype=dtype('float32'), name='reward')\n",
            "Action Spec:\n",
            "BoundedArraySpec(shape=(), dtype=dtype('int64'), name='action', minimum=0, maximum=1)\n"
          ]
        }
      ]
    },
    {
      "cell_type": "markdown",
      "source": [
        "# Let's print one step"
      ],
      "metadata": {
        "id": "BJd5W3Ewm4GV"
      }
    },
    {
      "cell_type": "code",
      "source": [
        "result = env.reset()\n",
        "print(\"First Step :\")\n",
        "print(result)\n",
        "print()\n",
        "print()\n",
        "\n",
        "\n",
        "# Take action\n",
        "action = random.choice([0,1])\n",
        "result = env.step(action)\n",
        "\n",
        "print(\"After one step :\")\n",
        "print(result)"
      ],
      "metadata": {
        "colab": {
          "base_uri": "https://localhost:8080/"
        },
        "id": "avM-48GEm7hM",
        "outputId": "adcfc35c-76f6-4965-ee10-b9fe5bea037f"
      },
      "execution_count": 29,
      "outputs": [
        {
          "output_type": "stream",
          "name": "stdout",
          "text": [
            "First Step :\n",
            "TimeStep(\n",
            "{'discount': array(1., dtype=float32),\n",
            " 'observation': array([-0.00568601,  0.02703665,  0.01302008, -0.02795658], dtype=float32),\n",
            " 'reward': array(0., dtype=float32),\n",
            " 'step_type': array(0, dtype=int32)})\n",
            "\n",
            "\n",
            "After one step :\n",
            "TimeStep(\n",
            "{'discount': array(1., dtype=float32),\n",
            " 'observation': array([-0.00514527,  0.22196949,  0.01246095, -0.31650326], dtype=float32),\n",
            " 'reward': array(1., dtype=float32),\n",
            " 'step_type': array(1, dtype=int32)})\n"
          ]
        }
      ]
    },
    {
      "cell_type": "code",
      "source": [
        "# Create 2 environments, one for training, the other one for evaluation\n",
        "train_py_env = suite_gym.load(env_name)\n",
        "eval_py_env = suite_gym.load(env_name)\n",
        "\n",
        "# This is just to make sure the numpy arrays are converted into tensorflow tensors\n",
        "train_env = tf_py_environment.TFPyEnvironment(train_py_env)\n",
        "eval_env = tf_py_environment.TFPyEnvironment(eval_py_env)"
      ],
      "metadata": {
        "id": "csLmFWo3myup"
      },
      "execution_count": 31,
      "outputs": []
    },
    {
      "cell_type": "markdown",
      "source": [
        "# Creation of the Q-Network"
      ],
      "metadata": {
        "id": "5Gs_r_OdnnSt"
      }
    },
    {
      "cell_type": "code",
      "source": [
        "# This means we have one hidden layer with 100 neurons\n",
        "fc_layer_params = (100,)\n",
        "\n",
        "# We create the q-network with the parameters, observation vector, and action space\n",
        "q_net = q_network.QNetwork(\n",
        "    train_env.observation_spec(),\n",
        "    train_env.action_spec(),\n",
        "    fc_layer_params=fc_layer_params)\n"
      ],
      "metadata": {
        "id": "vlG6L2eDnOYo"
      },
      "execution_count": 33,
      "outputs": []
    },
    {
      "cell_type": "code",
      "source": [
        "# Other architecture possible\n",
        "\n",
        "fc_layer_params = (50, 50)\n",
        "\n",
        "q_net = q_network.QNetwork(\n",
        "    train_env.observation_spec(),\n",
        "    train_env.action_spec(),\n",
        "    fc_layer_params=fc_layer_params)\n"
      ],
      "metadata": {
        "id": "yXxVzC7-n5Kh"
      },
      "execution_count": null,
      "outputs": []
    },
    {
      "cell_type": "markdown",
      "source": [
        "# Optimization part"
      ],
      "metadata": {
        "id": "Lqh8ekLUoOVt"
      }
    },
    {
      "cell_type": "code",
      "source": [
        "# Creation of the Adam Optimizer\n",
        "optimizer = tf.compat.v1.train.AdamOptimizer(learning_rate=learning_rate)\n",
        "\n",
        "# Integer step COunter\n",
        "train_step_counter = tf.Variable(0)\n",
        "\n",
        "agent = dqn_agent.DqnAgent(\n",
        "    train_env.time_step_spec(),\n",
        "    train_env.action_spec(),\n",
        "    q_network=q_net,\n",
        "    optimizer=optimizer,\n",
        "    td_errors_loss_fn=common.element_wise_squared_loss,\n",
        "    train_step_counter=train_step_counter)\n",
        "\n",
        "agent.initialize()\n"
      ],
      "metadata": {
        "id": "0IHa3YJKn8hX"
      },
      "execution_count": 36,
      "outputs": []
    },
    {
      "cell_type": "code",
      "source": [
        "# During training, the model alternates between 2 policies, the reference policy (learned so far) and the policy for exploration.\n",
        "\n",
        "# The algorithm uses eval_policy as the main policy for evaluation and development\n",
        "eval_policy = agent.policy\n",
        "\n",
        "# The algorithm uses this policy for data collection\n",
        "collect_policy = agent.collect_policy\n"
      ],
      "metadata": {
        "id": "fgFHS2CXpe0X"
      },
      "execution_count": 37,
      "outputs": []
    },
    {
      "cell_type": "code",
      "source": [
        "# This is the policy that chooses a random action\n",
        "random_policy = random_tf_policy.RandomTFPolicy(train_env.time_step_spec(),\n",
        "                                                train_env.action_spec())\n"
      ],
      "metadata": {
        "id": "2lCniHIZqFD4"
      },
      "execution_count": 38,
      "outputs": []
    },
    {
      "cell_type": "code",
      "source": [
        "# Create an environment and set up the random policy\n",
        "example_environment = tf_py_environment.TFPyEnvironment(suite_gym.load('CartPole-v0'))\n",
        "time_step = example_environment.reset()\n",
        "random_policy.action(time_step)"
      ],
      "metadata": {
        "colab": {
          "base_uri": "https://localhost:8080/"
        },
        "id": "AQPK9s5YqmVt",
        "outputId": "2412efbe-92d7-453d-9d93-070368859f0b"
      },
      "execution_count": 43,
      "outputs": [
        {
          "output_type": "execute_result",
          "data": {
            "text/plain": [
              "PolicyStep(action=<tf.Tensor: shape=(1,), dtype=int64, numpy=array([0])>, state=(), info=())"
            ]
          },
          "metadata": {},
          "execution_count": 43
        }
      ]
    },
    {
      "cell_type": "markdown",
      "source": [
        "# Metrics and Evaluation"
      ],
      "metadata": {
        "id": "uIE0b6Anq-yk"
      }
    },
    {
      "cell_type": "code",
      "source": [
        "def compute_avg_return(env, policy, num_episodes = 10):\n",
        "  # initialize return\n",
        "  total_return = 0.0\n",
        "  for _ in range(num_episodes):\n",
        "    time_step = env.reset()\n",
        "    episode_return = 0.0\n",
        "\n",
        "    while not time_step.is_last():\n",
        "      action = policy.action(time_step)\n",
        "      time_step = env.step(action)\n",
        "      episode_return += time_step.reward\n",
        "\n",
        "    total_return += episode_return\n",
        "  \n",
        "  avg_return = total_return / num_episodes\n",
        "  return avg_return.numpy()[0]"
      ],
      "metadata": {
        "id": "KGJ1Xb6oq-Am"
      },
      "execution_count": 57,
      "outputs": []
    },
    {
      "cell_type": "code",
      "source": [
        "# One example\n",
        "compute_avg_return(eval_env, random_policy, num_eval_episodes)"
      ],
      "metadata": {
        "colab": {
          "base_uri": "https://localhost:8080/"
        },
        "id": "1inPaF9mqyaD",
        "outputId": "7b747419-8f18-4e29-d64b-a517491f8650"
      },
      "execution_count": 58,
      "outputs": [
        {
          "output_type": "execute_result",
          "data": {
            "text/plain": [
              "28.1"
            ]
          },
          "metadata": {},
          "execution_count": 58
        }
      ]
    },
    {
      "cell_type": "markdown",
      "source": [
        "# Replay Buffer\n",
        "\n",
        "The Replay Buffer is a memory that stores experiences an agent has had while interacting with its environment. \n",
        "\n",
        "It stores these experiences as trajectories (series of observations, actions, rewards)\n",
        "\n",
        "During training the agent randomly samples trajectories from the replay buffer and uses them to update its policy or Q-network.\n",
        "\n",
        "This helps the agent to learn from a diverse set of experiences and avoid overfitting to recent experiences.\n"
      ],
      "metadata": {
        "id": "5MxkWLHDseRH"
      }
    },
    {
      "cell_type": "code",
      "source": [
        "replay_buffer = tf_uniform_replay_buffer.TFUniformReplayBuffer(\n",
        "    data_spec=agent.collect_data_spec,\n",
        "    batch_size=train_env.batch_size,\n",
        "    max_length=replay_buffer_max_length)\n"
      ],
      "metadata": {
        "id": "1W-Q1Yzlr3Ef"
      },
      "execution_count": 59,
      "outputs": []
    },
    {
      "cell_type": "code",
      "source": [
        "agent.collect_data_spec"
      ],
      "metadata": {
        "colab": {
          "base_uri": "https://localhost:8080/"
        },
        "id": "LM33FCv5soP-",
        "outputId": "f24b07fb-2fc8-4edd-a6c4-7142e8b7d1e2"
      },
      "execution_count": 60,
      "outputs": [
        {
          "output_type": "execute_result",
          "data": {
            "text/plain": [
              "Trajectory(\n",
              "{'action': BoundedTensorSpec(shape=(), dtype=tf.int64, name='action', minimum=array(0), maximum=array(1)),\n",
              " 'discount': BoundedTensorSpec(shape=(), dtype=tf.float32, name='discount', minimum=array(0., dtype=float32), maximum=array(1., dtype=float32)),\n",
              " 'next_step_type': TensorSpec(shape=(), dtype=tf.int32, name='step_type'),\n",
              " 'observation': BoundedTensorSpec(shape=(4,), dtype=tf.float32, name='observation', minimum=array([-4.8000002e+00, -3.4028235e+38, -4.1887903e-01, -3.4028235e+38],\n",
              "      dtype=float32), maximum=array([4.8000002e+00, 3.4028235e+38, 4.1887903e-01, 3.4028235e+38],\n",
              "      dtype=float32)),\n",
              " 'policy_info': (),\n",
              " 'reward': TensorSpec(shape=(), dtype=tf.float32, name='reward'),\n",
              " 'step_type': TensorSpec(shape=(), dtype=tf.int32, name='step_type')})"
            ]
          },
          "metadata": {},
          "execution_count": 60
        }
      ]
    },
    {
      "cell_type": "markdown",
      "source": [
        "# Data Collection"
      ],
      "metadata": {
        "id": "AgwWYrhttDhA"
      }
    },
    {
      "cell_type": "code",
      "source": [
        "def collect_step(environment, policy, buffer):\n",
        "    time_step = environment.current_time_step()\n",
        "    action_step = policy.action(time_step)\n",
        "    next_time_step = environment.step(action_step.action)\n",
        "    traj = trajectory.from_transition(time_step, action_step, \\\n",
        "                                      next_time_step)\n",
        "\n",
        "    # Add trajectory to the replay buffer\n",
        "    buffer.add_batch(traj)\n",
        "\n",
        "\n",
        "def collect_data(env, policy, buffer, steps):\n",
        "    for _ in range(steps):\n",
        "        collect_step(env, policy, buffer)\n",
        "\n",
        "\n",
        "collect_data(train_env, random_policy, replay_buffer, steps=100)"
      ],
      "metadata": {
        "id": "6mmEIeegsqqM"
      },
      "execution_count": 61,
      "outputs": []
    },
    {
      "cell_type": "code",
      "source": [
        "# Dataset generates trajectories with shape [Bx2x...]\n",
        "dataset = replay_buffer.as_dataset(\n",
        "    num_parallel_calls=3, \n",
        "    sample_batch_size=batch_size, \n",
        "    num_steps=2).prefetch(3)\n",
        "\n",
        "\n",
        "dataset"
      ],
      "metadata": {
        "colab": {
          "base_uri": "https://localhost:8080/"
        },
        "id": "Nz-lbawOtFYf",
        "outputId": "2b42eed3-0b2b-43fb-81bc-d1018d2dd290"
      },
      "execution_count": 62,
      "outputs": [
        {
          "output_type": "execute_result",
          "data": {
            "text/plain": [
              "<PrefetchDataset element_spec=(Trajectory(\n",
              "{'action': TensorSpec(shape=(64, 2), dtype=tf.int64, name=None),\n",
              " 'discount': TensorSpec(shape=(64, 2), dtype=tf.float32, name=None),\n",
              " 'next_step_type': TensorSpec(shape=(64, 2), dtype=tf.int32, name=None),\n",
              " 'observation': TensorSpec(shape=(64, 2, 4), dtype=tf.float32, name=None),\n",
              " 'policy_info': (),\n",
              " 'reward': TensorSpec(shape=(64, 2), dtype=tf.float32, name=None),\n",
              " 'step_type': TensorSpec(shape=(64, 2), dtype=tf.int32, name=None)}), BufferInfo(ids=TensorSpec(shape=(64, 2), dtype=tf.int64, name=None), probabilities=TensorSpec(shape=(64,), dtype=tf.float32, name=None)))>"
            ]
          },
          "metadata": {},
          "execution_count": 62
        }
      ]
    },
    {
      "cell_type": "code",
      "source": [
        "iterator = iter(dataset)\n",
        "\n",
        "print(iterator)\n"
      ],
      "metadata": {
        "colab": {
          "base_uri": "https://localhost:8080/"
        },
        "id": "6zV1RaNzt6dG",
        "outputId": "a2390cab-0467-4c21-c8df-fc4f1e9accb3"
      },
      "execution_count": 63,
      "outputs": [
        {
          "output_type": "stream",
          "name": "stdout",
          "text": [
            "<tensorflow.python.data.ops.iterator_ops.OwnedIterator object at 0x7ff9e421a4c0>\n"
          ]
        }
      ]
    },
    {
      "cell_type": "markdown",
      "source": [
        "# Load Policy"
      ],
      "metadata": {
        "id": "HPigF40t0pF1"
      }
    },
    {
      "cell_type": "code",
      "source": [
        "saved_policy = tf.saved_model.load(saved_model_dir)"
      ],
      "metadata": {
        "id": "nvj8eZDf0n3e"
      },
      "execution_count": null,
      "outputs": []
    },
    {
      "cell_type": "markdown",
      "source": [
        "# Training"
      ],
      "metadata": {
        "id": "sqbb8YdJuA95"
      }
    },
    {
      "cell_type": "code",
      "source": [
        "# (Optional) Optimize by wrapping some of the code in a graph\n",
        "# using TF function.\n",
        "agent.train = common.function(agent.train)\n",
        "\n",
        "# Reset the train step\n",
        "agent.train_step_counter.assign(0)\n",
        "\n",
        "# Evaluate the agent's policy once before training.\n",
        "avg_return = compute_avg_return(eval_env, agent.policy,\n",
        "                                num_eval_episodes)\n",
        "returns = [avg_return]\n",
        "\n",
        "for _ in range(num_iterations):\n",
        "\n",
        "    # Collect a few steps using collect_policy and \n",
        "    # save to the replay buffer.\n",
        "    for _ in range(collect_steps_per_iteration):\n",
        "        collect_step(train_env, agent.collect_policy, replay_buffer)\n",
        "\n",
        "    # Sample a batch of data from the buffer and update \n",
        "    # the agent's network.\n",
        "    experience, unused_info = next(iterator)\n",
        "    train_loss = agent.train(experience).loss\n",
        "\n",
        "    step = agent.train_step_counter.numpy()\n",
        "\n",
        "    if step % log_interval == 0:\n",
        "        print('step = {0}: loss = {1}'.format(step, train_loss))\n",
        "\n",
        "    if step % eval_interval == 0:\n",
        "        avg_return = compute_avg_return(eval_env, agent.policy,\n",
        "                                        num_eval_episodes)\n",
        "        print('step = {0}: Average Return = {1}'.format(step, avg_return))\n",
        "        returns.append(avg_return)\n"
      ],
      "metadata": {
        "colab": {
          "base_uri": "https://localhost:8080/"
        },
        "id": "ckbsrrfjt6_3",
        "outputId": "1373f238-50fc-4a43-8f47-1bff013fbc7d"
      },
      "execution_count": 64,
      "outputs": [
        {
          "output_type": "stream",
          "name": "stderr",
          "text": [
            "WARNING:tensorflow:From /usr/local/lib/python3.8/dist-packages/tensorflow/python/util/dispatch.py:1176: calling foldr_v2 (from tensorflow.python.ops.functional_ops) with back_prop=False is deprecated and will be removed in a future version.\n",
            "Instructions for updating:\n",
            "back_prop=False is deprecated. Consider using tf.stop_gradient instead.\n",
            "Instead of:\n",
            "results = tf.foldr(fn, elems, back_prop=False)\n",
            "Use:\n",
            "results = tf.nest.map_structure(tf.stop_gradient, tf.foldr(fn, elems))\n"
          ]
        },
        {
          "output_type": "stream",
          "name": "stdout",
          "text": [
            "step = 200: loss = 25.626787185668945\n",
            "step = 400: loss = 8.73616886138916\n",
            "step = 600: loss = 11.116098403930664\n",
            "step = 800: loss = 13.021650314331055\n",
            "step = 1000: loss = 1.685867428779602\n",
            "step = 1000: Average Return = 12.0\n",
            "step = 1200: loss = 1.7691091299057007\n",
            "step = 1400: loss = 9.256731033325195\n",
            "step = 1600: loss = 12.382473945617676\n",
            "step = 1800: loss = 13.80690860748291\n",
            "step = 2000: loss = 25.34030532836914\n",
            "step = 2000: Average Return = 36.400001525878906\n",
            "step = 2200: loss = 35.034088134765625\n",
            "step = 2400: loss = 49.09223937988281\n",
            "step = 2600: loss = 26.08242416381836\n",
            "step = 2800: loss = 40.97002029418945\n",
            "step = 3000: loss = 29.08995246887207\n",
            "step = 3000: Average Return = 55.400001525878906\n",
            "step = 3200: loss = 20.75833511352539\n",
            "step = 3400: loss = 17.51983070373535\n",
            "step = 3600: loss = 136.6868133544922\n",
            "step = 3800: loss = 33.893035888671875\n",
            "step = 4000: loss = 51.873291015625\n",
            "step = 4000: Average Return = 84.4000015258789\n",
            "step = 4200: loss = 72.65611267089844\n",
            "step = 4400: loss = 6.456439018249512\n",
            "step = 4600: loss = 46.34990692138672\n",
            "step = 4800: loss = 151.08580017089844\n",
            "step = 5000: loss = 73.91328430175781\n",
            "step = 5000: Average Return = 192.8000030517578\n",
            "step = 5200: loss = 70.00906372070312\n",
            "step = 5400: loss = 7.603396892547607\n",
            "step = 5600: loss = 194.80209350585938\n",
            "step = 5800: loss = 27.526567459106445\n",
            "step = 6000: loss = 11.386210441589355\n",
            "step = 6000: Average Return = 171.1999969482422\n",
            "step = 6200: loss = 249.6272430419922\n",
            "step = 6400: loss = 65.40365600585938\n",
            "step = 6600: loss = 146.09140014648438\n",
            "step = 6800: loss = 382.7266540527344\n",
            "step = 7000: loss = 12.113083839416504\n",
            "step = 7000: Average Return = 166.89999389648438\n",
            "step = 7200: loss = 59.47029495239258\n",
            "step = 7400: loss = 329.59130859375\n",
            "step = 7600: loss = 108.5461196899414\n",
            "step = 7800: loss = 113.37014770507812\n",
            "step = 8000: loss = 13.56190299987793\n",
            "step = 8000: Average Return = 172.6999969482422\n",
            "step = 8200: loss = 188.27227783203125\n",
            "step = 8400: loss = 92.17637634277344\n",
            "step = 8600: loss = 107.94673156738281\n",
            "step = 8800: loss = 688.9910888671875\n",
            "step = 9000: loss = 17.240610122680664\n",
            "step = 9000: Average Return = 188.89999389648438\n",
            "step = 9200: loss = 29.779518127441406\n",
            "step = 9400: loss = 1062.33837890625\n",
            "step = 9600: loss = 258.9898986816406\n",
            "step = 9800: loss = 900.1536254882812\n",
            "step = 10000: loss = 26.624740600585938\n",
            "step = 10000: Average Return = 200.0\n",
            "step = 10200: loss = 913.7350463867188\n",
            "step = 10400: loss = 107.82505798339844\n",
            "step = 10600: loss = 260.473388671875\n",
            "step = 10800: loss = 23.472984313964844\n",
            "step = 11000: loss = 145.22862243652344\n",
            "step = 11000: Average Return = 200.0\n",
            "step = 11200: loss = 24.817710876464844\n",
            "step = 11400: loss = 102.0866470336914\n",
            "step = 11600: loss = 1186.9288330078125\n",
            "step = 11800: loss = 1239.381103515625\n",
            "step = 12000: loss = 21.459278106689453\n",
            "step = 12000: Average Return = 200.0\n",
            "step = 12200: loss = 911.041259765625\n",
            "step = 12400: loss = 36.63536071777344\n",
            "step = 12600: loss = 429.24652099609375\n",
            "step = 12800: loss = 1020.0533447265625\n",
            "step = 13000: loss = 175.88758850097656\n",
            "step = 13000: Average Return = 200.0\n",
            "step = 13200: loss = 779.6322021484375\n",
            "step = 13400: loss = 18.532346725463867\n",
            "step = 13600: loss = 310.35595703125\n",
            "step = 13800: loss = 40.32701873779297\n",
            "step = 14000: loss = 35.85957336425781\n",
            "step = 14000: Average Return = 200.0\n",
            "step = 14200: loss = 13.694897651672363\n",
            "step = 14400: loss = 330.0263671875\n",
            "step = 14600: loss = 445.76312255859375\n",
            "step = 14800: loss = 52.54033660888672\n",
            "step = 15000: loss = 64.27371215820312\n",
            "step = 15000: Average Return = 198.89999389648438\n",
            "step = 15200: loss = 667.3868408203125\n",
            "step = 15400: loss = 47.981605529785156\n",
            "step = 15600: loss = 715.5364379882812\n",
            "step = 15800: loss = 605.8244018554688\n",
            "step = 16000: loss = 33.346763610839844\n",
            "step = 16000: Average Return = 200.0\n",
            "step = 16200: loss = 40.597320556640625\n",
            "step = 16400: loss = 446.24981689453125\n",
            "step = 16600: loss = 60.25274658203125\n",
            "step = 16800: loss = 2439.619140625\n",
            "step = 17000: loss = 72.44116973876953\n",
            "step = 17000: Average Return = 200.0\n",
            "step = 17200: loss = 38.2020378112793\n",
            "step = 17400: loss = 37.9130973815918\n",
            "step = 17600: loss = 60.096466064453125\n",
            "step = 17800: loss = 61.19837951660156\n",
            "step = 18000: loss = 652.085205078125\n",
            "step = 18000: Average Return = 200.0\n",
            "step = 18200: loss = 191.4219970703125\n",
            "step = 18400: loss = 2405.179931640625\n",
            "step = 18600: loss = 678.7698974609375\n",
            "step = 18800: loss = 422.11846923828125\n",
            "step = 19000: loss = 21.56293296813965\n",
            "step = 19000: Average Return = 200.0\n",
            "step = 19200: loss = 52.72303009033203\n",
            "step = 19400: loss = 65.76509857177734\n",
            "step = 19600: loss = 89.9004135131836\n",
            "step = 19800: loss = 33.26255798339844\n",
            "step = 20000: loss = 3705.99609375\n",
            "step = 20000: Average Return = 200.0\n"
          ]
        }
      ]
    },
    {
      "cell_type": "markdown",
      "source": [
        "# Visualization and Plots"
      ],
      "metadata": {
        "id": "4I5GNBWpuIWj"
      }
    },
    {
      "cell_type": "code",
      "source": [
        "iterations = range(0, num_iterations + 1, eval_interval)\n",
        "plt.plot(iterations, returns)\n",
        "plt.ylabel('Average Return')\n",
        "plt.xlabel('Iterations')\n",
        "plt.ylim(top=250)"
      ],
      "metadata": {
        "colab": {
          "base_uri": "https://localhost:8080/",
          "height": 300
        },
        "id": "WybTBatkuNdm",
        "outputId": "f208c643-e131-47a0-b56b-2258657f584c"
      },
      "execution_count": 65,
      "outputs": [
        {
          "output_type": "execute_result",
          "data": {
            "text/plain": [
              "(2.5999999999999996, 250.0)"
            ]
          },
          "metadata": {},
          "execution_count": 65
        },
        {
          "output_type": "display_data",
          "data": {
            "text/plain": [
              "<Figure size 432x288 with 1 Axes>"
            ],
            "image/png": "[encoded data removed]"
          },
          "metadata": {
            "needs_background": "light"
          }
        }
      ]
    },
    {
      "cell_type": "markdown",
      "source": [
        "# Videos"
      ],
      "metadata": {
        "id": "kc54jY9ZuIR6"
      }
    },
    {
      "cell_type": "markdown",
      "source": [],
      "metadata": {
        "id": "dpXSAupNuIF6"
      }
    },
    {
      "cell_type": "code",
      "source": [
        "def embed_mp4(filename):\n",
        "    \"\"\"Embeds an mp4 file in the notebook.\"\"\"\n",
        "    video = open(filename, 'rb').read()\n",
        "    b64 = base64.b64encode(video)\n",
        "    tag = '''\n",
        "  <video width=\"640\" height=\"480\" controls>\n",
        "    <source src=\"data:video/mp4;base64,{0}\" type=\"video/mp4\">\n",
        "  Your browser does not support the video tag.\n",
        "  </video>'''.format(b64.decode())\n",
        "\n",
        "    return IPython.display.HTML(tag)\n"
      ],
      "metadata": {
        "id": "H9hE1BvluG5z"
      },
      "execution_count": 66,
      "outputs": []
    },
    {
      "cell_type": "code",
      "source": [
        "# HIDE OUTPUT\n",
        "def create_policy_eval_video(policy, filename, num_episodes=5, fps=30):\n",
        "    filename = filename + \".mp4\"\n",
        "    with imageio.get_writer(filename, fps=fps) as video:\n",
        "        for _ in range(num_episodes):\n",
        "            time_step = eval_env.reset()\n",
        "            video.append_data(eval_py_env.render())\n",
        "            while not time_step.is_last():\n",
        "                action_step = policy.action(time_step)\n",
        "                time_step = eval_env.step(action_step.action)\n",
        "                video.append_data(eval_py_env.render())\n",
        "    return embed_mp4(filename)\n",
        "\n",
        "\n",
        "create_policy_eval_video(agent.policy, \"trained-agent\")\n"
      ],
      "metadata": {
        "colab": {
          "base_uri": "https://localhost:8080/",
          "height": 538
        },
        "id": "DyxDxNa-uTwH",
        "outputId": "9c08791a-4694-4085-87d0-0e6da1631965"
      },
      "execution_count": 67,
      "outputs": [
        {
          "output_type": "stream",
          "name": "stderr",
          "text": [
            "WARNING:root:IMAGEIO FFMPEG_WRITER WARNING: input image is not divisible by macro_block_size=16, resizing from (400, 600) to (400, 608) to ensure video compatibility with most codecs and players. To prevent resizing, make your input image divisible by the macro_block_size or set the macro_block_size to None (risking incompatibility). You may also see a FFMPEG warning concerning speedloss due to data not being aligned.\n"
          ]
        },
        {
          "output_type": "execute_result",
          "data": {
            "text/plain": [
              "<IPython.core.display.HTML object>"
            ],
            "text/html": [
              "\n",
              "  <video width=\"640\" height=\"480\" controls>\n",
              "    <source src=\"data:video/mp4;base64,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\" type=\"video/mp4\">\n",
              "  Your browser does not support the video tag.\n",
              "  </video>"
            ]
          },
          "metadata": {},
          "execution_count": 67
        }
      ]
    },
    {
      "cell_type": "code",
      "source": [
        "# HIDE OUTPUT\n",
        "create_policy_eval_video(random_policy, \"random-agent\")\n"
      ],
      "metadata": {
        "colab": {
          "base_uri": "https://localhost:8080/",
          "height": 538
        },
        "id": "cUFsZojNuVOu",
        "outputId": "c3645fca-f26f-4d9d-9525-b1d0c07cfb93"
      },
      "execution_count": 68,
      "outputs": [
        {
          "output_type": "stream",
          "name": "stderr",
          "text": [
            "WARNING:root:IMAGEIO FFMPEG_WRITER WARNING: input image is not divisible by macro_block_size=16, resizing from (400, 600) to (400, 608) to ensure video compatibility with most codecs and players. To prevent resizing, make your input image divisible by the macro_block_size or set the macro_block_size to None (risking incompatibility). You may also see a FFMPEG warning concerning speedloss due to data not being aligned.\n"
          ]
        },
        {
          "output_type": "execute_result",
          "data": {
            "text/plain": [
              "<IPython.core.display.HTML object>"
            ],
            "text/html": [
              "\n",
              "  <video width=\"640\" height=\"480\" controls>\n",
              "    <source src=\"data:video/mp4;base64,AAAAIGZ0eXBpc29tAAACAGlzb21pc28yYXZjMW1wNDEAAAAIZnJlZQAAJ7ltZGF0AAACrgYF//+q3EXpvebZSLeWLNgg2SPu73gyNjQgLSBjb3JlIDE1NSByMjkxNyAwYTg0ZDk4IC0gSC4yNjQvTVBFRy00IEFWQyBjb2RlYyAtIENvcHlsZWZ0IDIwMDMtMjAxOCAtIGh0dHA6Ly93d3cudmlkZW9sYW4ub3JnL3gyNjQuaHRtbCAtIG9wdGlvbnM6IGNhYmFjPTEgcmVmPTMgZGVibG9jaz0xOjA6MCBhbmFseXNlPTB4MzoweDExMyBtZT1oZXggc3VibWU9NyBwc3k9MSBwc3lfcmQ9MS4wMDowLjAwIG1peGVkX3JlZj0xIG1lX3JhbmdlPTE2IGNocm9tYV9tZT0xIHRyZWxsaXM9MSA4eDhkY3Q9MSBjcW09MCBkZWFkem9uZT0yMSwxMSBmYXN0X3Bza2lwPTEgY2hyb21hX3FwX29mZnNldD0tMiB0aHJlYWRzPTMgbG9va2FoZWFkX3RocmVhZHM9MSBzbGljZWRfdGhyZWFkcz0wIG5yPTAgZGVjaW1hdGU9MSBpbnRlcmxhY2VkPTAgYmx1cmF5X2NvbXBhdD0wIGNvbnN0cmFpbmVkX2ludHJhPTAgYmZyYW1lcz0zIGJfcHlyYW1pZD0yIGJfYWRhcHQ9MSBiX2JpYXM9MCBkaXJlY3Q9MSB3ZWlnaHRiPTEgb3Blbl9nb3A9MCB3ZWlnaHRwPTIga2V5aW50PTI1MCBrZXlpbnRfbWluPTI1IHNjZW5lY3V0PTQwIGludHJhX3JlZnJlc2g9MCByY19sb29rYWhlYWQ9NDAgcmM9Y3JmIG1idHJlZT0xIGNyZj0yNS4wIHFjb21wPTAuNjAgcXBtaW49MCBxcG1heD02OSBxcHN0ZXA9NCBpcF9yYXRpbz0xLjQwIGFxPTE6MS4wMACAAAACA2WIhAA3//72rvzLK0cLlS4dWXuzUfLoSXL9iDB9aAAAAwAAAwAAJuKiZ0WFMeJsgAAALmAIWElDyDzETFWKtAQvdxN5Yo56AIAiX+ulYavZq3IRq7tZtE1YQsLEBgaUNOFyO691NKgTjzbzFzmrHmvzUa53V956W7aL2VOKgtmkRcNe42XJCCH9PoIfw4JTOkZBn/kbdXiMEdWyPRIC0JdvppebRlpUiGtMrMtXwo9+yx+4yR773Vl/2DgTz7jmRT6sxIkFl+Fr1OdjgzCu2q8SQ/0HIohRV31kz07xsqKPWRX3CzM/6Vbjd1Ze5WdhSP+6oUboBSxkB+J8ufXqQHzogc16dxuHYzR/UJCS8JpawQsbC982van6B+EtoEr6yo8/wYf8ubkf0/+k1QUhCOfcEm7mSubnBmj4+WiftfgrzRT0IzPOxQZvtKZJmMOg/txWBkoZnKj6bfCVJ4UtzQnronyPsn1QCaaFtTZe12sjB35NQxvElEWURZWSQhrBz75TbhpJ9A3f26i798EyvdlpPZv4q8cISXRSRLBidv74y7P9Ef+XOwKN53GRUza2REsegClmu7d1t4MDfLrrERj2sAbmO0NaS0Gbu/Nqt3djjRvbHeLgLLAB9kNuSS/MTxjmHGyfUm+ytREFEzKErn6f1Kao0CiZWAXnAAADAAADAAIXAAAAmkGaJGxDf/6MsAAARDXGmhGWAOX8bchiY+dxUhLK44UY7hJryy3Fm8XRTvfjPr9FMUCY3UpTh6/qFl0PDR7KBcPq6iIYl61xV9e0E97+4X3f9PirotkygprJuQvDnf0WQZ2Rorc8eU5OG04aANL8Ucb+wnPDGa8MB+PfiIjisCheQNrKg7+5qRgpu7OOm9qbfKcmhfyeuVcOaPsAAABJQZ5CeIV/AAAWLl1C21ESCx+GUJWXz9+aAOfdUwf665hGkoAWrduQc8ySGkjOkRBnC7hBOgcOMRsjdiSSzjvCAu4OqIRqPMz7YQAAAB4BnmF0Qn8AAA017zEKPjw1qO7GNxmWn8guC1wOn/wAAAA3AZ5jakJ/AAAivZaAEMXNCB16jKxQiA/0betb3CsGrZCfC9U90kASsOJugCSwbCdW8JS2db19sQAAAHJBmmhJqEFomUwIb//+jLAAAEQC9/1g2LIiHQAH7bp1WQyvTjTFF3Q0t+ekdSBG0bIt+0T3n11uYrimM+9ltXwpWCHAQL4wZshi5wsAkjrv9u8/1VACoElWkmsgMN7FzJrp3eGHHe7B2KnYvgs41KRaV6sAAAAuQZ6GRREsK/8AABYlWFGHhF1Co745NLIJUVFYsGfKIqAh4AGrwJ7EiAfulBRcbwAAADQBnqV0Qn8AACKsNs8g6NtbzQ4gDBijq9ZX/2pG8RXZrEzhVOH53Z2c8CBTIxWetPrLG9KhAAAAFwGep2pCfwAADOSeFv0Sw7lzMf4Dq/CVAAAAbUGarEmoQWyZTAhv//6MsAAAREMBZEZACw6ScFk1T2fpzJfpggfJ+snrOmk1hW3rjD3N9aDP105PgToyEAJOZMG3Q+V0jg/bV4BG83mO/V/iWXkMmt77QGEuWJ/f0/bLGOcVzy9oYaWCpovwF4AAAAA1QZ7KRRUsK/8AABYsTomfEqoCxZt6zM4RLUrGyvVD8AeMJNvSY3ggE6BssjczASX42VEjNT8AAAAvAZ7pdEJ/AAANK0Ym3DYzIdhGGT4iKn7kW9CSK+5pIQQ0rVGBqgaKWy4qjVMwXwYAAAAvAZ7rakJ/AAAisixlAaFBsobUHkFKFcYpki84Sd1Fr/XRo0fNGeKHzH86lYjeBNgAAACKQZrvSahBbJlMCG///oywAAAaDEdkcb3w4IjsKCasRj9x9dmG4GBImWqybJhORQJ38GkZXbL64wUK49X+/YgYEx9cf929o8niPt5FWoy2f6SyTEcR8nxzMwOi9OBsOuSGQAROes1ganTDMJY6nKx63z/6Bg0MubKUIgFoEFrDB6LqwKtgG0aAdFuLAAAANEGfDUUVLCv/AAAIJiQoAT2AiJasA+/AScPgRCwm+NV4+FPZ0amDlFAJMkHmOlxWrII8lgsAAAArAZ8uakJ/AAAE+6kHnKZBTZlBPWXQSzTaGEAUwr+A4zOj64Zsi8TaunwMFwAAANhBmzNJqEFsmUwIb//+jLAAAEZ/vgRufdT9oV4kU2KYcGluIjNMqorXdYktsZf4N+b2YwjS15TsQfXQuSKDrDWiuz0lOwDgqn8pDsmqPEjGr+WbkENSVXbZefh7UAtHsVP082vlbepX2VHNw6EU+KoQp5JbEQqQ+4t80pjt9pp/4TksTVkuU9ffMPa2ExvluGdF8wpV//XDcPQFnaC6wDPi4KgCEvQWFRblWG7xOupFdBe4xXGWTKZP5DiaxFNSTaTebyWowS0ZJK/EysuEQkuOix15yh46w4AAAABSQZ9RRRUsK/8AABa8QxauKGnyr1NIrKHZ64wUpG6G9XYNbL3QyqARsqEKkCgtymHIG3dL/o2YvGA4eADmvcRdSwoFVPOvv43N00pGyjxVOg2wsAAAAD0Bn3B0Qn8AACKsN2UBeEtPkPiW1/Nb09TYLtx3Pu45cBvSFnBsX0AHyY8IIJL5sdzJfX1XPFNu8rj7L23BAAAAOAGfcmpCfwAAI771PkKCBWsyMXjXUTfWgKcs3CRoT9NSC2Pr82Uk2mlR+DmQ310RNOugv91B/P3oAAAA6EGbdkmoQWyZTAhv//6MsAAARgIBzMGsAX5dGAKzVcYrHGZkk+/YoVbxtPdEn58kLpgz/ieKxSWA1+qFsIWtS/hQ6c7jIXDg37pwgYzvD7PX7rc/sU/cQbXwQjPorLGDZKlzSjPr6+3BbZhy8aWNIu2CCBzW8bc6khSo0197KKAf4zkv3IJaXdRqa/zkE19Tvis/+rOqQ6HhMuxN5ivT70wfDS0aFWqgZIMAb9TCOdrEhwjgqtGEaUyucHDnuxxJZlXr90meJon7EAa/H/R16ssppUHwe7yAnOqY+CBZWrMVcttXjnAz1N4AAABNQZ+URRUsK/8AABbAnB12UvWFnCzIZBNu5C01IctlIS+FuoVxMQKpKdvkabrYmv97aOYV8TbKAvZjl2x6cACWliEpcQVEQSi1tMgTCoEAAABFAZ+1akJ/AAAjroIT43LJNeyzMZU7dlzPVW9SWJ7ZBKaC13dIdraFJAHGCP1BdTxO2DmOg6g5UyWIpsc6X3IIk+tcDPYTAAABHEGbukmoQWyZTAhv//6MsAAARhCUkaYgBAt4iJGxgj/wAtoNIjn3S3jh/SSLdVNnrb2ZXZJ1a6VMVz3LYgVne/hfPuNu9MBwc9t1cdaSVaFK2pcooeRstnWwgsjwvy3yZ7KbO8/H9zI7FgSRdNNGxnO5NcTLNeak4hmY4bfHiAKmurwdNXUDMf4QjxdrSkRDCGHb9BF3nJCJTclgYlMqz3JoK8ilhnCXGaZ64/Ziyc1g6vljJfoIzesTygyh4FA5QiipLw6BCSdTCR3HYmoxk3+PeUWDMOgQ9LsLb4jrQoq+x3rcF4aC5yXzOjDqbVCD+PSIkbbFFtBmhyXppKoTGSNYAWMZwnEekihNKf9/zl21Hzn8np+MXbvfID0tAAAAe0Gf2EUVLCv/AAAWven0OZHYWhgDP/i4jqxIYWLPGAOhkakXDEcLPRm25KH6dyHLfMVHRjYPa2UiWY0CDLX4lDO4gNyhoCbJiMyI9bT5yosEkHP4fblbHL/sy5WcJsWvae14Uu0X1RymHBRVT/d5qgn7fG6dvI2wGCkccQAAAD4Bn/d0Qn8AACPDEeb3Mw0+h0EkZB6LjuZ3lC3hoT9eyHG+CYF+NElMJdW0zinprUpwxiROdL+40XeOr+ZVxwAAAB0Bn/lqQn8AACOxzAlvqW+tcTkankI7lZmThKzt7QAAAERBm/5JqEFsmUwIb//+jLAAAEYC9tZLm0gAITbLYyzXn78lQte/V3M2au3nIorCR9Rjja6OHo9YEqAhksgIDz9XU3WuWAAAAClBnhxFFSwr/wAAFrxDzX8rEKTguRDry2clJ+4kyTnrPqQfsjCU2AMltQAAABsBnjt0Qn8AAAMB5YfabCFOXkVvj8XztgcrtmEAAAAYAZ49akJ/AAAjscwJb6lvshVI+/TE9gAYAAAAeEGaIkmoQWyZTAhv//6MsAAARgIFdJySs1oAI9pVyKjggwovb4Alh83bsKJgVOU5A1Auf96e7Ds9YQpFt0ZZimbHgMocty66R2J2VCKFOIQqsW1W8lDraAD91Mj10+lQj79cotUdPJsNePu+rfcc4nkm6G8M2ysEIAAAADZBnkBFFSwr/wAAFrxDzfjlMyrgbQXXxHnBY6smGad5Ky2mm2VqQALO8KMMtWdF2gI2Pp23oqMAAAAXAZ5/dEJ/AAADAAqArmCS+kx4PpkhvZgAAAAyAZ5hakJ/AAAjvZYCigfhqMCRkfiDDKmK3+d1ClyN6zMmdzRIT+U+E3/gBh0CuU8OnbEAAAEAQZpmSahBbJlMCG///oywAABGem9Bg84pOSjl9yJRKa3ABOJfGbg9TFFUxww41u5VlXOmLRsPoDufVwmMCqqCRXFV7tyvhBZzFUw6Ivow8HH2QLXkQEL2jKAeXGMYdpG3tX7me/xUTx725bFuzJszYVer/Ifcw3SjLPPFFEjghqpIfpMRb3at1zeUnbr27EGrYk29x/r1UqPCxlPgItv21OoK5Kk7Erhq60OdOvgWHZBnFcXn8YLvFio1hAMzoK+VuRCD7ydt1ILsUgO2I4Y8YuRSjyRny33sXPKyw7vK16DrAQ4RffAPywrb4rqr3ZU25T7opxqq2QfKGYHDfWoqnwAAAE1BnoRFFSwr/wAAFrU3P18vrCgLuGvbVwhJ9MFqhAG44JPOAleuHhMuAAsIiM6X0KMPiBzZIk3di+98Ad3N7mautwpHmLjoPfM8T0ji3QAAAEIBnqN0Qn8AACPVIQGNr7VaEoPkDt59AYA6xnlvUSztXoxJDG9bk5qRyVVWsOxI0ucae8mSpWjAfbl4/6dlIzfMWzEAAAA0AZ6lakJ/AAAivZad23qtR55PcfOGnGDgJq59BHgbdlr+sDGudPbDX/2dYMF7gDTK+V/7MQAAANpBmqpJqEFsmUwIb//+jLAAAEQBd5gpIAQd0dC9rvuxbEhtkIFC0++NtrDjDQPszVlMOEVjnxSRjNB4E2J8fptV9MrrHjEZcUiunZRvNRhCe1DZNg2B+erzvJs61GwNYKL9HYEylN78iX/AU7NzE7ltLrQBJ7vuQf1uCsKJ/CImCNa9t14qEBHJ6nGhTcUyz8v316SxssSGXjdmVfxdnJt/p/2+RlQmelmkBbNdmx7yl5m2GcKzmoS5KBtkwkH6JFLsYVlHmDXl3pQK9/F1PuTm2qEQhA06fVzq5QAAAF1BnshFFSwr/wAAFiICl6Z7bj8Pym8btT4D2Amlz7REiiIiipks3ZHk+Eh1jClp90JACTSfvkigp+kqOyoOUA1tuLQbkH0lvtJYLEd1/Yilswk15QQ7HdWZTifFsoAAAAA6AZ7ndEJ/AAAinsxO4vadbile5g6yaO3rnAxfoN65HsFzpDRBOOUkKplwryznJGdI8o4cVENhywLZgAAAAD8BnulqQn8AACK9c/wnpaa6RHTVYqcu7FJnvhBeBOpV7Fc7LbaITtNhf0c3cwclfIGNIk64pb75pdQ/Ng54wMEAAADYQZruSahBbJlMCG///oywAABGeN/g8NoABf5dhvJHbWnpQvcLIKW0o+wGLE8vexpeUZmUi3dKbTukmCBMe9SkUnhS6B6bRxKJT8lSCV/ldF20/gjX6zAt4ZSIP5rVY2+0zxqZXeymYfEUIWZii7QpgINz5NEIVimL/2IKWXP+Lg2phdAC4fjwJp5gh00p2wlncHyADBY9VoZkRByfNRmCZ3t0mvQ62v23K0U3x1A1KB6JkU8KgNWy0j7hoClmaRjpceri2hCHPKz+qrA6O/oDHpErkdcCxv6QAAAAMUGfDEUVLCv/AAAWs0e2+t8YToqHuv73hGYQAON437+3PIsizFOj9d2ZDLYjLmoIB0UAAAAeAZ8rdEJ/AAAjq/f5UQUQWinLu4qe7GAxEqOWnPAZAAAAGAGfLWpCfwAAI7HMCW+pb7IVlttT1nLZgQAAALFBmzJJqEFsmUwIb//+jLAAAEYlD9pD3EiJDjfoEZZS0Xlgj3O884Q0BTiyENUXjcj+QTSujaJNWUU+b9YVWF64NZUIUKVNoP5fGHh2uT6DVAEWbfSAwg48zDvqPl/cXfodFHYyj9uY8Zt/9WwrlCHSZ2tiFrQrLuhYfUdrG65cKYFhp1V6dA/gi6/wB1M8Nsu5D1qi64z9Ua586XTy9BQawHzcNAsL0NZWPU+InTdYilkAAAAyQZ9QRRUsK/8AABazR7cN/85kLQ1dZBhUrcWWRYyftsAStZLFTawl5AAOHGaz7XT6lxYAAAAnAZ9vdEJ/AAAjwuzhg+fEoC7GnBh9q4ypTW0zGmVsCqaGokgnE67YAAAANQGfcWpCfwAAI78EJMSxyVF7H7eXRkXMHpurSMiO2+8w1SxXzJx3VyGZrnipAQBT3CXGylYDAAABAkGbdkmoQWyZTAhv//6MsAAARiR7bAx8GL8Yh1Ok+3/gBLZSMaNSG+YREpINKFRuq01gDXui9JM4OqEC59CCEy21CiFKJt/WMRj/z5X87/MJ2VW2ltYAic2RJGzb43TFdw4OzL/qJvEN5IOVq5ggpSOrXoi9xp0ydPJptF0RjinAQNIO2SfGllgzntiU06YaRJJzhz6A9mo2AMV/naC88QI1Rv9nuAE779UCVBvJAHr7gu+6zqxiD0vWwwhTINk15OUNd7j4Vr4QZO8YTosBC/UOuWNDh8KfXtUfAZ8VxpUnx3KSHgnamrTgrIhSXtH0JBAQmSesJwdH604xeSDz4aexgAAAAGRBn5RFFSwr/wAAFqpR1Uhtlf+z7sriGspzWRqunbqZkvLse1zrZNi3K7UJ98v8VpXrfW+2YelC/yZ7Irk7DbffV7qscPdjIABwQs5Utny4CQkeXM/ztzP8ZVVY7TcvtaZHlw4sAAAAPQGfs3RCfwAAI6NvTOXVFm7kwubvlcwD0Xacw40v82cxJ5m/WAWfSnLB46j9FWc6fDLD/02SkXYEbSR0FKkAAABDAZ+1akJ/AAAjo2fQYPV4JfF1l+cbYEwAAhcQemkhoFqjyanIVzsLztmHlWZq9hZrJLPjIgVhRGDej6OLrJ4M5N1GPgAAAJ5Bm7pJqEFsmUwIb//+jLAAAEYBs+1aC51qAaRkh2UoB4IY81/oRxjPj5UEVb107ll14k9D79mX8LmE5CqJl5vVSzniJjhsR3QKtnYi621JdCeyy1yuxT/53sLVF5DH2k0B1rxdeCHrxxZ0vrb87r7fXFjDTSrV0RD0wlyim3bPCQa1LU3HST/Qu0k5a8mfy+OIGVa9ugqpbJ7KbOR6UQAAAKFBn9hFFSwr/wAAF1ifgE17knJWfubd8iVDr4K4lbLtXOJ9A6mDaqTmohzSrRS+GBXfBtpWtyRttzuw/SDBmLCwH7liPkv48kQT83FDiiBMTX2bAy7bNKv87rgAtRTX7WRgGXEbItdcG6P3m3Qs+zrbKvjQiySrf5i3pjCrVJL0MRKsi1NHYQD3y8pCnKCHtHEa6cH1yDxeQJrYuctm8UWsLQAAAEcBn/d0Qn8AACTC7A5JvftJWfmVwX7f1n8hP9y2EI51WEMojnPaP3mU8NRH6hLE/Ym7sZ3J+h604u2k4HWNAz7WNRuz7qxPgAAAAFoBn/lqQn8AACO9cRetOjSYnKw9y6HczThqB41+jovt+AyPWwS4ALQre4cF+P9Hl7n8ZeHpMrYX6RjwIqdbnuf3qaPkcEHoRiBAZkiRFF7cWau4J8Aql8GaD+8AAACwQZv+SahBbJlMCG///oywAABGAgVwRFWy8lCwBEwt56JjTzMekYeK7Nt1GcPXbLzc17EIxhorRH1et1iZkTXrL2xgZK4tw2ABBesjd2/rGtQfEAniVjDgF2rp/IZeugvRhctoqcdQhkBIVhh/QJvWHMMB8LycGCUdmzll7ihdhYsr/nRotcngWz3tGHofryfsi5Hf/aupMqYm+PeOIaPuQmDf5LVhpD/1loTFYPqy6YAAAAAmQZ4cRRUsK/8AABaynwnAzU9SZlFzXzvIYOeJSJQKjXwKzJGfj4MAAAAPAZ47dEJ/AAAE1YeKAKSBAAAALQGePWpCfwAAI64xL9Iy9IA59OsLc8LYzQT6kWRyJQkuR6IkdETJxwSAX5FtwAAAAOhBmiJJqEFsmUwIb//+jLAAAEZ6b0F8DbLlPFZbZz35poUSyNU9AFxdJrNh5NpLPxhP6mKTe7paWoNb67zR17GvqF8YjM3RZervEgZVvQ6S30jcq5sf3gRF+ZYnFoZ3X0RIUriti4QDmcs31VfpnDJlw9qQc/2oK64/L1zN7OBloB7sBlPVI0svkZaZDOVkrfSOKol51EsY+lRNNsMFpVAjWnUJylllAwpBhhxonowtfi1pf8Wq+gFx29aI7vq6BwLsgSWPwAARRH2nGlDXr/mktelCASEytLmJeF7dZuFxAHfPFqOoxXUgAAAAYEGeQEUVLCv/AAAWu5Q1XcU9qf9uACPaxWjXzCcQ23qiMhaOz4RlnOSUY/q7nYKeSsw3IpRxVgXzUMhzhasE3l7LVPBX78zsrvSpqNKMOqwxNWwK2ihuOerRAVLqqRnHbwAAADYBnn90Qn8AACOr55JDfcIXUPrQBGYgLUp/kmseJYt6TfHg6PYNIOkuHYr22cEM6yE9PZLbLbMAAAA9AZ5hakJ/AAAjscEN2OnDgKTQvVrkRcukt0AAFnazC1ylDIELAh6xNEhb2sYB8WYu0hp8M7w9G78ueC6lQQAAAMBBmmZJqEFsmUwIb//+jLAAAEQkQakJidufQnSaQwfVCV3Hn0HUNVEPwWRfICtrbG3sYfdYJe4Nvs+Yy027Iy9t0F2buu39GO/32GqieIQBuTwp3SwyDDG6frxDlOtGtdwYIBIFwqKCiXDPy3B0vkyNqGir+WkOwvoI7PG4aJ5vD68n6XmnUE3riRImOOA3+6DUkgRps/PRZMUuK/9pdgbhyZwIcDxtAqd2wHSILLJ+avjt3ac/NxJCZb4BXcFiTpgAAABXQZ6ERRUsK/8AABYUv3nag83zasV8/ptYOcpVD6nyJaWGNRPlw4cuUil3GL//V3GgT25va8PY3l2IXNrsg7PiK7XPj8hgAk+kIvvHoHtpayuT2cgJPAoTAAAAMgGeo3RCfwAAIj3UU220iMGTzINjbl/p8cDgpiLM4VAcbOAuVXjp1mWXWn60sv9QPt5NAAAAMwGepWpCfwAAIr2WDQgfPmlVEsTm2xauyYOB4G2BC+Uj+1lK3S3j5Y4ZTpN5RLh5+kXbMQAAAOhBmqpJqEFsmUwIb//+jLAAAEYk51GCFN/rgE186rhXFRn6/bpxOTOJPkZV71KPoDK+ocu2QCbxyBE+Qvtcul0MezyX65oIBuIIz3aGXpoH+ib2lQg+M1hrEW8aJWUO0gjTAswu6XJHaDt8r8PrdPchZSl2AnrxDh3mTCkxLyeQj4rojnkZB281CJhAAMPmOYJu+nP+Pu8X0+HxspM9kwxH7K38KmyxBBObImhXAFcGxcRUBOMHc++ML4/yUbi9RtS5/9Cbfldcn6BW65Io6EQ2Zz+a0+n1hUdWMY7wxL1hNboe5+u/40uBAAAAdUGeyEUVLCv/AAAWvDd9CVRWdAZwvQRQkgTPKOH9CN7bGY7f0PXr729YM2ZF9QDrXUpObAYbbuEGaoAd3fHjRC6MYY6ErHQwp3OAGLlUCLqul6tjJroJIHkUH9eSM8tLSkhEMnVnPYqQQK19RzqjpfQd2QwMCAAAADgBnud0Qn8AACLAuODUFdHAeNUkyMBfJsrDsu+0q1tg0f/JF9ntXIsNdhKxMvnb1V4p5dDmraY+zAAAAF8BnulqQn8AACO/AhdPTKKvRPpa3/sKeUFGy3Ez6zcDwNc8AHE2PmRnTbBcHREWjRuEvWC6Isx12dDNomRzJAcb8D4ZkzzZ0NFZ6zMgBaE4oAi/32psdGTiBLQG0l3S2QAAALRBmu5JqEFsmUwIb//+jLAAAER6sA+xzPkhADs+3wFsl2HdL+0ZqVe+uJWesaXGt8MBgTJ69CfawNTtdPByDSaRB0jnt6nowTN5U6SP/9KRcTafx6jrAQoonN4jT8FpT6jp7xeoQ9rTWVegSJSMrEOv2KgiC5FTWO7SwlfxoLLi2ncL877KA54oldV8AjddRZ6tSWeIvS3EorubTsAL5/TsNvS5ywzUWImdLZYSTlayF5eIOmAAAABIQZ8MRRUsK/8AAAhvCcocE54BYQAt4LmhoCZcqzDdfdt8D5XCzQsWGOrtLeni8cVxRPnnk3ZCNFiNeB/+px+jE/LIkCz/otuAAAAAHwGfK3RCfwAADSu4jEaN0zFtJJoPzKkC+9NMM28IByUAAAAtAZ8takJ/AAANhJ2+9tllgJTsaK/Qf1uNc7uJCyxgngpQPyULQPebpEPYCtuBAAAAc0GbMkmoQWyZTAhv//6MsAAARgLQ6jhAG1Iexwp0ACWqPX/OVFxl7YWGbbIUIDOO8ZLUTrJ0jSijvUh9YtcHgydFqNfQrydee6t2lPpRr2UDuh06Oowv7JriavHMarFOy04lhz1plPwT47nJRZv2W0YSU1kAAAA+QZ9QRRUsK/8AABa1KzRndXcuUQdq1xdRKlGE2iAvcHWa4yCn5DoJLvEEmbskwiJfWxxWZgZ9OWqaTYXmZ4MAAAAdAZ9vdEJ/AAAjwxdoqaVT1RYpxDn0S19SKDNMnswAAAAwAZ9xakJ/AAAE+6gh+jI81p0IKmJS5qG9JZLI7mPS8sv6W1JiYN4Oo5DrrFftctmBAAAAU0GbdkmoQWyZTAhv//6MsAAARimUUq0XDOS4zSecyR0PwdDg0oW6l6rfvapQ+zlW7VxDNNuVv96IUWUGjABdBm2YSqjqDmATvc9FhyNd23aXJbtYAAAALUGflEUVLCv/AAAWvE6nDMWvFoFEABvy2NXHSOxIvx3Eor257wjDgjl2Uo4ZJgAAACYBn7N0Qn8AAA2F6grTI5rd3aAe/lg7r5b82rsss+OF3D4tft5HJQAAADABn7VqQn8AACO/GvunOTKzVTDhtS1nyy1MUKWZLoC1sIP2W7uoATOmoOEEpmK7/g4AAACRQZu6SahBbJlMCGf//jhAAAENOgL5A9tAEJfZQJLFPGObCQJhifKH3K3NeVstuFaMZ64itfiOAKDJNeai6nrlbYKbK3Yszq3HUh1WlOvdAHZZles3Dg4AWk1Ict+WE91SAu8AsQD8GTXyHK6AphKja43YJw//30k36gWUeMQXoAssWqjbyBVmkxprdtcgPIIiEwAAAENBn9hFFSwr/wAAFsCfHsShVJ83SfmTQONIkfcF6BrBs2Amwos7IjSrXf4OfpbB0ei5KBqLZsXVtgAFw69L0ecpu3JBAAAAMgGf93RCfwAAI6w5W+xFR95WgmzW8m5OfxCVaRUCCjtc+G7pRsUE8oQc3KXQ+tgSrPyTAAAANwGf+WpCfwAAI7Iq9HTUrC8hq1PO3TL+MwjuUUNtqya///kyXWOFABrCIwcRI9SdFLrnQkYqLycAAAC7QZv8SahBbJlMFEwv//3xAAADAqCs7TXgBus3rZUyl3/TdwZHk07KVCeh21vMm6+0/uaBnM8iFuFiuWlG3K92SeTfaj7X+3smMYwwd9PTzBnwXtF3a32Uy9VU7u/dhdg83YqB/vTs0jIRM//ktFxMxFHa22zuqRe84rMrB8B0KVh/B9juq0xYtP4i3cmQ9eD28WZZozExAmklvyTqqWlaSIoYQ8bfpVUlxgABwGAAjh9tmyk6eQQhHXBm4AAAADwBnhtqQn8AACO9lgKJZGzP43OrkSL8hLPK/Lra0IQBXh84wfgz4OFcLSygA+PE98fwdf/a/Rta+oh8mzEAAACWQZodSeEKUmUwIX/98QAAAwKe+mIQAcd9x+2ZMtwcJ78e947oHRJvTm3iv1XZiEaQUQIsx2/Af5psJQftuN9pCHqIonGrhiLpZi6SXcaOaK3hLEAxALC8npQnijN9C/Q1YRwJsGzOAdsITTL+DquLCfulVbRiZP9dcRRnwl5d2iwj6bK0vvz/MDy1OwRVd1m0aBPN3A4xAAAAiEGaPknhDomUwIV//eEAAAQTcnct2IXKjhDlMX4f6bxCgqQIaYC19sXpJq2AFW2hJ47Ed1mGP2dEOVslEQLYM2pfCGcFLM35NCUKsNqWoGDnPUurmRUpgry7GvBp0zFZMnuZ8wsjvvgTkEbNL9oFqeCWlsdspNVQtAh3a2yVIQ9j7BRU0xclASAAAABsQZpfSeEPJlMCE//8hAAAD9Pra6j3k5ltRcdekRmS9rPlR+405Cur9hV2O30z+7EqOA/kUAK3nsz82pnl/Ih8E67RrAW6vTqOSOGCWry750WLqFBmTdzmxIyrFA/m+Mbm/9BcqzkKsSKvcf0JAAAHcW1vb3YAAABsbXZoZAAAAAAAAAAAAAAAAAAAA+gAAAyAAAEAAAEAAAAAAAAAAAAAAAABAAAAAAAAAAAAAAAAAAAAAQAAAAAAAAAAAAAAAAAAQAAAAAAAAAAAAAAAAAAAAAAAAAAAAAAAAAAAAAAAAAIAAAabdHJhawAAAFx0a2hkAAAAAwAAAAAAAAAAAAAAAQAAAAAAAAyAAAAAAAAAAAAAAAAAAAAAAAABAAAAAAAAAAAAAAAAAAAAAQAAAAAAAAAAAAAAAAAAQAAAAAJgAAABkAAAAAAAJGVkdHMAAAAcZWxzdAAAAAAAAAABAAAMgAAABAAAAQAAAAAGE21kaWEAAAAgbWRoZAAAAAAAAAAAAAAAAAAAPAAAAMAAVcQAAAAAAC1oZGxyAAAAAAAAAAB2aWRlAAAAAAAAAAAAAAAAVmlkZW9IYW5kbGVyAAAABb5taW5mAAAAFHZtaGQAAAABAAAAAAAAAAAAAAAkZGluZgAAABxkcmVmAAAAAAAAAAEAAAAMdXJsIAAAAAEAAAV+c3RibAAAAJZzdHNkAAAAAAAAAAEAAACGYXZjMQAAAAAAAAABAAAAAAAAAAAAAAAAAAAAAAJgAZAASAAAAEgAAAAAAAAAAQAAAAAAAAAAAAAAAAAAAAAAAAAAAAAAAAAAAAAAAAAAABj//wAAADBhdmNDAWQAHv/hABhnZAAerNlAmDOhAAADAAEAAAMAPA8WLZYBAAVo6+csiwAAABhzdHRzAAAAAAAAAAEAAABgAAACAAAAABRzdHNzAAAAAAAAAAEAAAABAAAC8GN0dHMAAAAAAAAAXAAAAAEAAAQAAAAAAQAACgAAAAABAAAEAAAAAAEAAAAAAAAAAQAAAgAAAAABAAAKAAAAAAEAAAQAAAAAAQAAAAAAAAABAAACAAAAAAEAAAoAAAAAAQAABAAAAAABAAAAAAAAAAEAAAIAAAAAAQAACAAAAAACAAACAAAAAAEAAAoAAAAAAQAABAAAAAABAAAAAAAAAAEAAAIAAAAAAQAACAAAAAACAAACAAAAAAEAAAoAAAAAAQAABAAAAAABAAAAAAAAAAEAAAIAAAAAAQAACgAAAAABAAAEAAAAAAEAAAAAAAAAAQAAAgAAAAABAAAKAAAAAAEAAAQAAAAAAQAAAAAAAAABAAACAAAAAAEAAAoAAAAAAQAABAAAAAABAAAAAAAAAAEAAAIAAAAAAQAACgAAAAABAAAEAAAAAAEAAAAAAAAAAQAAAgAAAAABAAAKAAAAAAEAAAQAAAAAAQAAAAAAAAABAAACAAAAAAEAAAoAAAAAAQAABAAAAAABAAAAAAAAAAEAAAIAAAAAAQAACgAAAAABAAAEAAAAAAEAAAAAAAAAAQAAAgAAAAABAAAKAAAAAAEAAAQAAAAAAQAAAAAAAAABAAACAAAAAAEAAAoAAAAAAQAABAAAAAABAAAAAAAAAAEAAAIAAAAAAQAACgAAAAABAAAEAAAAAAEAAAAAAAAAAQAAAgAAAAABAAAKAAAAAAEAAAQAAAAAAQAAAAAAAAABAAACAAAAAAEAAAoAAAAAAQAABAAAAAABAAAAAAAAAAEAAAIAAAAAAQAACgAAAAABAAAEAAAAAAEAAAAAAAAAAQAAAgAAAAABAAAKAAAAAAEAAAQAAAAAAQAAAAAAAAABAAACAAAAAAEAAAoAAAAAAQAABAAAAAABAAAAAAAAAAEAAAIAAAAAAQAACgAAAAABAAAEAAAAAAEAAAAAAAAAAQAAAgAAAAABAAAGAAAAAAEAAAIAAAAAAwAABAAAAAAcc3RzYwAAAAAAAAABAAAAAQAAAGAAAAABAAABlHN0c3oAAAAAAAAAAAAAAGAAAAS5AAAAngAAAE0AAAAiAAAAOwAAAHYAAAAyAAAAOAAAABsAAABxAAAAOQAAADMAAAAzAAAAjgAAADgAAAAvAAAA3AAAAFYAAABBAAAAPAAAAOwAAABRAAAASQAAASAAAAB/AAAAQgAAACEAAABIAAAALQAAAB8AAAAcAAAAfAAAADoAAAAbAAAANgAAAQQAAABRAAAARgAAADgAAADeAAAAYQAAAD4AAABDAAAA3AAAADUAAAAiAAAAHAAAALUAAAA2AAAAKwAAADkAAAEGAAAAaAAAAEEAAABHAAAAogAAAKUAAABLAAAAXgAAALQAAAAqAAAAEwAAADEAAADsAAAAZAAAADoAAABBAAAAxAAAAFsAAAA2AAAANwAAAOwAAAB5AAAAPAAAAGMAAAC4AAAATAAAACMAAAAxAAAAdwAAAEIAAAAhAAAANAAAAFcAAAAxAAAAKgAAADQAAACVAAAARwAAADYAAAA7AAAAvwAAAEAAAACaAAAAjAAAAHAAAAAUc3RjbwAAAAAAAAABAAAAMAAAAGJ1ZHRhAAAAWm1ldGEAAAAAAAAAIWhkbHIAAAAAAAAAAG1kaXJhcHBsAAAAAAAAAAAAAAAALWlsc3QAAAAlqXRvbwAAAB1kYXRhAAAAAQAAAABMYXZmNTguMjkuMTAw\" type=\"video/mp4\">\n",
              "  Your browser does not support the video tag.\n",
              "  </video>"
            ]
          },
          "metadata": {},
          "execution_count": 68
        }
      ]
    },
    {
      "cell_type": "markdown",
      "source": [
        "# Save Policy"
      ],
      "metadata": {
        "id": "Q_cQijtc0ftE"
      }
    },
    {
      "cell_type": "code",
      "source": [
        "import os\n",
        "saved_model_dir = os.path.join(os.getcwd(), 'saved_model')\n",
        "tf.saved_model.save(agent.policy, saved_model_dir)\n"
      ],
      "metadata": {
        "colab": {
          "base_uri": "https://localhost:8080/"
        },
        "id": "_JIkEEPMz7N0",
        "outputId": "cc53564b-e150-482e-8416-8ee4aab57fe2"
      },
      "execution_count": 69,
      "outputs": [
        {
          "output_type": "stream",
          "name": "stderr",
          "text": [
            "WARNING:absl:Found untraced functions such as QNetwork_layer_call_fn, QNetwork_layer_call_and_return_conditional_losses, EncodingNetwork_layer_call_fn, EncodingNetwork_layer_call_and_return_conditional_losses, dense_3_layer_call_fn while saving (showing 5 of 10). These functions will not be directly callable after loading.\n"
          ]
        }
      ]
    },
    {
      "cell_type": "code",
      "source": [
        "# To download the folder containting the model from Google Collab\n",
        "!zip -r saved_model.zip saved_model\n",
        "from google.colab import files\n",
        "files.download('saved_model.zip')\n"
      ],
      "metadata": {
        "id": "O7Ox1S5M0xhO"
      },
      "execution_count": null,
      "outputs": []
    }
  ]
}